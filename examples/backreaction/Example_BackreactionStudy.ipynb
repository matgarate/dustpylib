{
 "cells": [
  {
   "cell_type": "markdown",
   "metadata": {},
   "source": [
    "# Guided example of a backreaction study"
   ]
  },
  {
   "cell_type": "markdown",
   "metadata": {},
   "source": [
    "Backreaction is a complex interaction that arises from the exchange of angular momentum between gas and dust.\n",
    "In order for backreaction to be effective the dust-to-gas ratios need to be high, and the Stokes number of the grains (i.e. their dynamical size) large.\n",
    "\n",
    "In this guided example we will learn how to quantify the dynamical effect of the backreaction, by looking at the gas surface density, gas radial velocity, and the back-reaction coefficients in three simulations:\n",
    "\n",
    "* One simulation without backreaction and ISM dust-to-gas ratio ($\\epsilon_0 = 1\\%$)\n",
    "* One simulation with backreaction and ISM dust-to-gas ratio ($\\epsilon_0 = 1\\%$)\n",
    "* One simulation with backreaction, a high dust-to-gas ratio ($\\epsilon_0 = 5\\%$), and a snowline\n"
   ]
  },
  {
   "cell_type": "code",
   "execution_count": 1,
   "metadata": {},
   "outputs": [],
   "source": [
    "import numpy as np\n",
    "from dustpy import Simulation\n",
    "from dustpy import constants as c\n",
    "\n",
    "from dustpylib.dynamics.backreaction import setup_backreaction"
   ]
  },
  {
   "cell_type": "markdown",
   "metadata": {},
   "source": [
    "## Running the simulations"
   ]
  },
  {
   "cell_type": "markdown",
   "metadata": {},
   "source": [
    "To simplify this notebook, we will define a routine that creates and initializes a standard simulation object, with custom initial dust-to-gas ratio:"
   ]
  },
  {
   "cell_type": "code",
   "execution_count": 2,
   "metadata": {},
   "outputs": [],
   "source": [
    "def get_Simulation(d2gRatio = 0.01):\n",
    "    sim = Simulation()\n",
    "\n",
    "    \n",
    "    # Relevant Gas and Dust parameters\n",
    "    sim.ini.gas.gamma = 1.0\n",
    "    sim.ini.gas.alpha = 1.e-3\n",
    "    sim.ini.dust.vfrag = 1000.0\n",
    "    sim.ini.dust.d2gRatio = d2gRatio\n",
    "\n",
    "\n",
    "    # Radial Grid Parameters\n",
    "    sim.ini.grid.Nr = 200\n",
    "    sim.ini.grid.rmin = 5 * c.au\n",
    "    sim.ini.grid.rmax = 500 * c.au\n",
    "\n",
    "    # Initialization and snapshots\n",
    "    sim.initialize()    \n",
    "    sim.t.snapshots = np.linspace(0.1, 2.0, 20) * 1.e5 * c.year\n",
    "    \n",
    "    \n",
    "    return sim"
   ]
  },
  {
   "cell_type": "markdown",
   "metadata": {},
   "source": [
    "1. We will create our first control simulation, without backreaction.\n",
    "\n",
    "This simulation will evolve by standard viscous evolution, without any particular features."
   ]
  },
  {
   "cell_type": "code",
   "execution_count": 3,
   "metadata": {},
   "outputs": [],
   "source": [
    "sim_Control = get_Simulation(d2gRatio = 0.01)\n",
    "sim_Control.writer.datadir = \"./Example_Simulations/Control/\""
   ]
  },
  {
   "cell_type": "markdown",
   "metadata": {},
   "source": [
    "Execute `sim_Control.run()`"
   ]
  },
  {
   "cell_type": "markdown",
   "metadata": {},
   "source": [
    "2. For the second simulation we will include the basic backreaction setup, after creating the simulation object."
   ]
  },
  {
   "cell_type": "code",
   "execution_count": 4,
   "metadata": {},
   "outputs": [
    {
     "name": "stdout",
     "output_type": "stream",
     "text": [
      "Setting up the backreaction module.\n",
      "Please cite the work of Garate(2019, 2020).\n"
     ]
    }
   ],
   "source": [
    "sim_Backreaction = get_Simulation(d2gRatio = 0.01)\n",
    "setup_backreaction(sim_Backreaction)\n",
    "sim_Backreaction.writer.datadir = \"./Example_Simulations/Backreaction/\""
   ]
  },
  {
   "cell_type": "markdown",
   "metadata": {},
   "source": [
    "Execute `sim_Backreaction.run()`"
   ]
  },
  {
   "cell_type": "markdown",
   "metadata": {},
   "source": [
    "3. For the third simulation we will create a more complex setup with an iceline (modeled as a change in the the fragmentation velocity at a certain location)."
   ]
  },
  {
   "cell_type": "code",
   "execution_count": 5,
   "metadata": {},
   "outputs": [
    {
     "name": "stdout",
     "output_type": "stream",
     "text": [
      "Setting up the backreaction module.\n",
      "Please cite the work of Garate(2019, 2020).\n"
     ]
    }
   ],
   "source": [
    "sim_Backreaction_Iceline = get_Simulation(d2gRatio = 0.05)\n",
    "setup_backreaction(sim_Backreaction_Iceline)\n",
    "\n",
    "r_iceline = 20 * c.au\n",
    "r = sim_Backreaction_Iceline.grid.r\n",
    "sim_Backreaction_Iceline.dust.v.frag[r < r_iceline] = 100.\n",
    "sim_Backreaction_Iceline.update()\n",
    "sim_Backreaction_Iceline.writer.datadir = \"./Example_Simulations/Backreaction_Iceline/\""
   ]
  },
  {
   "cell_type": "markdown",
   "metadata": {},
   "source": [
    "Execute `sim_Backreaction_Iceline.run()`"
   ]
  },
  {
   "cell_type": "markdown",
   "metadata": {},
   "source": [
    "## Analyzing the simulations"
   ]
  },
  {
   "cell_type": "code",
   "execution_count": 6,
   "metadata": {},
   "outputs": [],
   "source": [
    "import matplotlib.pyplot as plt\n",
    "from dustpy import hdf5writer\n",
    "reader = hdf5writer()"
   ]
  },
  {
   "cell_type": "markdown",
   "metadata": {},
   "source": [
    "We read the last snapshot in the simulation from the `Example_Simulations` folder.\n",
    "\n",
    "(At this point we already ran the simulations through a script and saved a compact version of the output files for this notebook plotting routine)."
   ]
  },
  {
   "cell_type": "markdown",
   "metadata": {},
   "source": [
    "We read the snapshot 10, which corresponds to a time of `0.1 Myr`"
   ]
  },
  {
   "cell_type": "code",
   "execution_count": 7,
   "metadata": {},
   "outputs": [],
   "source": [
    "snapshot = 10\n",
    "reader.datadir = sim_Control.writer.datadir\n",
    "sim_Control = reader.read.output(snapshot)\n",
    "\n",
    "reader.datadir = sim_Backreaction.writer.datadir\n",
    "sim_Backreaction = reader.read.output(snapshot)\n",
    "\n",
    "reader.datadir = sim_Backreaction_Iceline.writer.datadir\n",
    "sim_Backreaction_Iceline = reader.read.output(snapshot)\n"
   ]
  },
  {
   "cell_type": "code",
   "execution_count": 8,
   "metadata": {},
   "outputs": [],
   "source": [
    "# The radial grid is the same, so we read it here\n",
    "r = sim_Control.grid.r"
   ]
  },
  {
   "cell_type": "markdown",
   "metadata": {},
   "source": [
    "We start by taking a look at the gas and dust surface densities of the three simulations:"
   ]
  },
  {
   "cell_type": "code",
   "execution_count": 9,
   "metadata": {},
   "outputs": [
    {
     "data": {
      "text/plain": [
       "<matplotlib.legend.Legend at 0x7fafe4308880>"
      ]
     },
     "execution_count": 9,
     "metadata": {},
     "output_type": "execute_result"
    },
    {
     "data": {
      "image/png": "[encoded data removed]",
      "text/plain": [
       "<Figure size 432x288 with 1 Axes>"
      ]
     },
     "metadata": {
      "needs_background": "light"
     },
     "output_type": "display_data"
    }
   ],
   "source": [
    "plt.figure()\n",
    "plt.xlim([10,30])\n",
    "plt.ylim([20,100])\n",
    "plt.xlabel('r (AU)')\n",
    "plt.ylabel(r'$\\Sigma_{gas}$ (g/cm$^2$)')\n",
    "\n",
    "plt.loglog(r/c.au, sim_Control.gas.Sigma, 'r:', label = 'Control')\n",
    "plt.loglog(r/c.au, sim_Backreaction.gas.Sigma, 'r--', label = 'Backreaction')\n",
    "plt.loglog(r/c.au, sim_Backreaction_Iceline.gas.Sigma, 'r-', label = 'Backreaction + Iceline')\n",
    "plt.legend()"
   ]
  },
  {
   "cell_type": "markdown",
   "metadata": {},
   "source": [
    "From the surface density profiles we see just about no difference between the `Control` and `Backreaction` simulations.\n",
    "\n",
    "However we see that the gas surface density has changed when the iceline was considered in a high dust-to-gas ratio disk, creating a small bump in the disk.\n",
    "\n",
    "Let's take a look at the gas velocities, which are now a contribution of two terms: a damped viscous accretion, and a backreaction push against the pressure gradient.\n",
    "\n",
    "$\\Large v_{r, gas} = A v_\\nu + 2B v_\\eta$"
   ]
  },
  {
   "cell_type": "code",
   "execution_count": 10,
   "metadata": {},
   "outputs": [
    {
     "data": {
      "text/plain": [
       "<matplotlib.legend.Legend at 0x7faff0c8e580>"
      ]
     },
     "execution_count": 10,
     "metadata": {},
     "output_type": "execute_result"
    },
    {
     "data": {
      "image/png": "[encoded data removed]",
      "text/plain": [
       "<Figure size 432x288 with 1 Axes>"
      ]
     },
     "metadata": {
      "needs_background": "light"
     },
     "output_type": "display_data"
    }
   ],
   "source": [
    "plt.figure()\n",
    "plt.xlim([10,30])\n",
    "plt.ylim([-1.5e-5,1.5e-5])\n",
    "plt.xlabel('r (AU)')\n",
    "plt.ylabel(r'$v_{gas}$ (AU/yr)')\n",
    "\n",
    "plt.semilogx(r/c.au, sim_Control.gas.v.rad/(c.au/c.year), 'r:', label = 'Control')\n",
    "plt.semilogx(r/c.au, sim_Backreaction.gas.v.rad/(c.au/c.year), 'r--', label = 'Backreaction')\n",
    "plt.semilogx(r/c.au, sim_Backreaction_Iceline.gas.v.rad/(c.au/c.year), 'r-', label = 'Backreaction + Iceline')\n",
    "plt.semilogx(r/c.au, np.zeros_like(sim_Control.grid.r), 'k:')\n",
    "plt.legend()"
   ]
  },
  {
   "cell_type": "markdown",
   "metadata": {},
   "source": [
    "Now the difference in the radial velocity of the gas is clear.\n",
    "\n",
    "The the simulation with the iceline, the backreaction effect is strong enough to revert the gas flow at the snowline location, which leads to the creation of the small bump in the disk."
   ]
  },
  {
   "cell_type": "markdown",
   "metadata": {},
   "source": [
    "\n",
    "\n",
    "\n",
    "As a rule of thumb, the backreaction pushing term becomes dominant over the viscous evolution when:\n",
    "\n",
    "$\\Large \\alpha A \\lesssim B$\n",
    "\n",
    "which is approximately equivalent to:\n",
    "\n",
    "\n",
    "$\\Large 1 \\lesssim \\mathrm{St}\\, \\epsilon\\, \\alpha^{-1}$"
   ]
  },
  {
   "cell_type": "code",
   "execution_count": 11,
   "metadata": {},
   "outputs": [
    {
     "data": {
      "text/plain": [
       "<matplotlib.legend.Legend at 0x7fafe39d35b0>"
      ]
     },
     "execution_count": 11,
     "metadata": {},
     "output_type": "execute_result"
    },
    {
     "data": {
      "text/plain": [
       "<Figure size 432x288 with 0 Axes>"
      ]
     },
     "metadata": {},
     "output_type": "display_data"
    },
    {
     "data": {
      "image/png": "[encoded data removed]",
      "text/plain": [
       "<Figure size 432x288 with 1 Axes>"
      ]
     },
     "metadata": {
      "needs_background": "light"
     },
     "output_type": "display_data"
    }
   ],
   "source": [
    "plt.figure()\n",
    "\n",
    "plt.figure()\n",
    "plt.xlim([10,30])\n",
    "plt.ylim([-1.e-4,2.e-3])\n",
    "plt.xlabel('r (AU)')\n",
    "plt.ylabel(r'Backreaction')\n",
    "\n",
    "A_control = sim_Control.dust.backreaction.A\n",
    "A_backreaction = sim_Backreaction.dust.backreaction.A\n",
    "A_iceline = sim_Backreaction_Iceline.dust.backreaction.A\n",
    "B_control = sim_Control.dust.backreaction.B\n",
    "B_backreaction = sim_Backreaction.dust.backreaction.B\n",
    "B_iceline = sim_Backreaction_Iceline.dust.backreaction.B\n",
    "alpha = sim_Control.gas.alpha\n",
    "\n",
    "plt.semilogx(r/c.au, A_control * alpha, 'r:')\n",
    "plt.semilogx(r/c.au, A_backreaction * alpha, 'r--')\n",
    "plt.semilogx(r/c.au, A_iceline * alpha, 'r-')\n",
    "plt.semilogx(r/c.au, B_control, 'b:')\n",
    "plt.semilogx(r/c.au, B_backreaction, 'b--')\n",
    "plt.semilogx(r/c.au, B_iceline, 'b-')\n",
    "\n",
    "plt.semilogx(r/c.au, -np.ones_like(r),'r' ,label = r'$\\alpha$ A')\n",
    "plt.semilogx(r/c.au, -np.ones_like(r),'b' ,label = 'B')\n",
    "plt.semilogx(r/c.au, -np.ones_like(r),'k:', label = 'Control')\n",
    "plt.semilogx(r/c.au, -np.ones_like(r),'k--', label = 'Backreaction')\n",
    "plt.semilogx(r/c.au, -np.ones_like(r),'k-' , label = 'Backreaction + Iceline')\n",
    "plt.legend()\n",
    "\n"
   ]
  },
  {
   "cell_type": "markdown",
   "metadata": {},
   "source": [
    "This plot show that in the `Backreaction + Iceline` simulation the backreaction coefficient B, that pushes the gas against the pressure gradient, dominates over the viscous spreading measured by $\\alpha$ A (i.e. viscous spreading with backreaction damping)"
   ]
  },
  {
   "cell_type": "markdown",
   "metadata": {},
   "source": [
    "In contrast, the `Backreaction` simulation without the iceline and a normal dust-to-gas ratio only shows a mild pushing coefficient, with $B \\ll \\alpha A$, which indicates that the evolution is mostly viscous."
   ]
  },
  {
   "cell_type": "markdown",
   "metadata": {},
   "source": [
    "We note that the backreaction effects only last while the dust continues to flow across the disk, and weakens if the dust-to-gas ratio decreases."
   ]
  },
  {
   "cell_type": "code",
   "execution_count": null,
   "metadata": {},
   "outputs": [],
   "source": []
  }
 ],
 "metadata": {
  "kernelspec": {
   "display_name": "Python 3",
   "language": "python",
   "name": "python3"
  },
  "language_info": {
   "codemirror_mode": {
    "name": "ipython",
    "version": 3
   },
   "file_extension": ".py",
   "mimetype": "text/x-python",
   "name": "python",
   "nbconvert_exporter": "python",
   "pygments_lexer": "ipython3",
   "version": "3.8.3"
  }
 },
 "nbformat": 4,
 "nbformat_minor": 4
}
