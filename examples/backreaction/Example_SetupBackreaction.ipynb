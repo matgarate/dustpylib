{
 "cells": [
  {
   "cell_type": "markdown",
   "metadata": {},
   "source": [
    "## Example of backreaction setups"
   ]
  },
  {
   "cell_type": "markdown",
   "metadata": {},
   "source": [
    "This notebook shows how to use the setup routine to include the effect of the dust backreaction (i.e. the dynamical feedback) into the dustpy `Simulation` object.\n",
    "\n",
    "We also illustrate the modifications applied to the simulation object by the `setup_backreaction()` routine.\n",
    "\n",
    "\n",
    "This module follows the implementation by Garate et al.([2019](https://ui.adsabs.harvard.edu/abs/2019ApJ...871...53G%2F/abstract), [2020](https://ui.adsabs.harvard.edu/abs/2020A%26A...635A.149G/abstract))"
   ]
  },
  {
   "cell_type": "markdown",
   "metadata": {},
   "source": [
    "## Basic backreaction setup"
   ]
  },
  {
   "cell_type": "code",
   "execution_count": 1,
   "metadata": {},
   "outputs": [],
   "source": [
    "from dustpy import Simulation\n",
    "from dustpy import constants as c"
   ]
  },
  {
   "cell_type": "code",
   "execution_count": 2,
   "metadata": {},
   "outputs": [],
   "source": [
    "sim = Simulation()"
   ]
  },
  {
   "cell_type": "markdown",
   "metadata": {},
   "source": [
    "The key parameters that impact the intensity of the dust backreaction are:\n",
    "* Initial global dust-to-gas ratio $\\large \\epsilon_0$\n",
    "* Dust fragmentation velocity $\\large v_\\mathrm{frag}$\n",
    "* Gas turbulence parameter $\\large  \\alpha$ \n",
    "* Dust turbulence $\\large \\delta_\\mathrm{turb}$ (if different form $\\large \\alpha$)"
   ]
  },
  {
   "cell_type": "code",
   "execution_count": 3,
   "metadata": {},
   "outputs": [],
   "source": [
    "sim.ini.gas.alpha = 1.e-3\n",
    "sim.ini.dust.d2gRatio = 0.01\n",
    "sim.ini.dust.vfrag = 1000.0"
   ]
  },
  {
   "cell_type": "code",
   "execution_count": 4,
   "metadata": {},
   "outputs": [],
   "source": [
    "sim.initialize()"
   ]
  },
  {
   "cell_type": "markdown",
   "metadata": {},
   "source": [
    "Afte initializing we call the `setup_backreaction() routine` that will load the backreaction coefficient updaters into the `sim`."
   ]
  },
  {
   "cell_type": "code",
   "execution_count": 5,
   "metadata": {},
   "outputs": [],
   "source": [
    "import dustpylib.dynamics"
   ]
  },
  {
   "cell_type": "code",
   "execution_count": 6,
   "metadata": {},
   "outputs": [
    {
     "name": "stdout",
     "output_type": "stream",
     "text": [
      "Setting up the backreaction module.\n",
      "Please cite the work of Garate(2019, 2020).\n"
     ]
    }
   ],
   "source": [
    "from dustpylib.dynamics.backreaction.setup_backreaction import setup_backreaction\n",
    "setup_backreaction(sim)"
   ]
  },
  {
   "cell_type": "markdown",
   "metadata": {},
   "source": [
    "The setup routine now calculates the backreaction coefficients `A` and `B` which affect the gas radial and azimuthal velocities as in the follows."
   ]
  },
  {
   "cell_type": "markdown",
   "metadata": {},
   "source": [
    "$\\Large v_{r, gas} = A v_\\nu + 2B v_\\eta$\n",
    "\n",
    "$\\Large \\Delta v_{\\phi, gas} = -A v_\\eta + \\frac{B}{2} v_\\nu$\n"
   ]
  },
  {
   "cell_type": "markdown",
   "metadata": {},
   "source": [
    "Here $v_\\nu$ corresponds to the gas viscous velocity, and $v_\\eta = \\eta v_K$ corresponds to standard gas deviation from the keplerian speed due its own pressure support.\n",
    "\n",
    "In a disk with a single dust species, the backreaction coefficients can be written as:\n",
    "\n",
    "$\\Large A = \\frac{\\epsilon +1 + \\mathrm{St}^2}{(\\epsilon + 1)^2 + \\mathrm{St}^2}$\n",
    "\n",
    "$\\Large B = \\frac{\\epsilon \\mathrm{St}}{(\\epsilon + 1)^2 + \\mathrm{St}^2}$\n",
    "\n",
    "\n",
    "\n",
    "In a disk with low dust content and/or small particle sizes ($\\epsilon \\rightarrow 0, \\mathrm{St}\\rightarrow 0$) we have that the coefficients tend to:\n",
    "\n",
    "$\\Large A \\rightarrow 1$\n",
    "\n",
    "$\\Large B \\rightarrow 0$\n",
    "\n",
    "where we recover the values for the gas evolution of a dust free disk."
   ]
  },
  {
   "cell_type": "markdown",
   "metadata": {},
   "source": [
    "In `dustpy` the backreaction coefficients are stored in the `sim.dust.backreaction` group"
   ]
  },
  {
   "cell_type": "code",
   "execution_count": 7,
   "metadata": {},
   "outputs": [
    {
     "data": {
      "text/plain": [
       "Group (Backreaction coefficients)\n",
       "---------------------------------\n",
       "    A            : Field (Pull factor)\n",
       "    B            : Field (Push factor)\n",
       "  -----"
      ]
     },
     "execution_count": 7,
     "metadata": {},
     "output_type": "execute_result"
    }
   ],
   "source": [
    "sim.dust.backreaction"
   ]
  },
  {
   "cell_type": "markdown",
   "metadata": {},
   "source": [
    "The backreaction coefficients are update simultaneously when the `sim.dust.backreaction.update()` function is called.\n",
    "\n",
    "The corresponding updater can be found in `functions_backreaction.BackreactionCoefficients()`\n"
   ]
  },
  {
   "cell_type": "markdown",
   "metadata": {},
   "source": [
    "Now the simulation is fully setup can can be executed with `sim.run()`"
   ]
  },
  {
   "cell_type": "markdown",
   "metadata": {},
   "source": [
    "### Effect on dust diffusivity"
   ]
  },
  {
   "cell_type": "markdown",
   "metadata": {},
   "source": [
    "The dust content in the disk is also expected to slow down the dust diffusivity.\n",
    "\n",
    "To implement this effect, the diffusivity is modified as follows:\n",
    "\n",
    "$\\Large D_{d} = \\frac{\\delta_{rad} c_s^2 \\Omega_K^{-1}}{(1 + \\epsilon) (1 + \\mathrm{St}^2)}$\n",
    "\n",
    "The dust diffusivity updater is included automatically in the `setup_backreaction()` routine.\n",
    "\n",
    "The updater can be found in `functions_backreaction.dustDiffusivity_Backreaction()`"
   ]
  },
  {
   "cell_type": "markdown",
   "metadata": {},
   "source": [
    "## Vertical Backreaction Setup"
   ]
  },
  {
   "cell_type": "markdown",
   "metadata": {},
   "source": [
    "The previous setup assumes that the gas and dust uniformly mixed in the vertical direction, and that therefore are equally affected by the effect of the dust back-reaction.\n",
    "\n",
    "However, we know that the dust tends to settle, and that therefore the midplane should be more intensly affected by the dust feedback than the upper layers.\n",
    "\n",
    "To do so we assume that the gas and dust are vertically distributed following a gaussian profile:\n",
    "\n",
    "\n",
    "$\\Large \\rho_{g, d}(z) = \\frac{\\Sigma_{g,d}}{\\sqrt{2\\pi}h_{g,d}} \\exp(\\frac{z^2}{2h_{g,d}^2})$\n",
    "\n",
    "With these densities we can calculate the backreaction coefficients at every height $\\large A(z), B(Z)$, and obtain a vertically weighted average to calculate the velocities with:\n",
    "\n",
    "$\\Large (\\bar{A}_{g,d}, \\bar{B}_{g,d}) = \\frac{1}{\\Sigma_{g,d}} \\int \\rho_{g,d}\\, (A(z), B (z))\\, \\mathrm{d}z$\n",
    "\n",
    "\n",
    "Because the gas and dust have different characteristic scale heights, this results in one pair of `A,B` backreaction coefficients for both the gas, and for each dust species.\n",
    "\n",
    "The origin of this approach can be found in [Garate et al., 2020](https://ui.adsabs.harvard.edu/abs/2020A%26A...635A.149G/abstract) (Section 2.2.1)\n",
    "\n",
    "To implement the vertically weighted backreaction coefficients, it is only necessary to mark the corresponding flag in the setup as follows:\n",
    "\n",
    "`setup_backreaction(sim, vertical_setup = True)`\n",
    "\n"
   ]
  },
  {
   "cell_type": "code",
   "execution_count": 8,
   "metadata": {},
   "outputs": [
    {
     "name": "stdout",
     "output_type": "stream",
     "text": [
      "Setting up the backreaction module.\n",
      "Please cite the work of Garate(2019, 2020).\n"
     ]
    }
   ],
   "source": [
    "sim = Simulation()\n",
    "sim.initialize()\n",
    "setup_backreaction(sim, vertical_setup = True)"
   ]
  },
  {
   "cell_type": "markdown",
   "metadata": {},
   "source": [
    "which creates the additional fields for the new backreaction coefficients"
   ]
  },
  {
   "cell_type": "code",
   "execution_count": 9,
   "metadata": {},
   "outputs": [
    {
     "data": {
      "text/plain": [
       "Group (Backreaction coefficients)\n",
       "---------------------------------\n",
       "    A            : Field (Pull factor (gas), accounting for dust settling)\n",
       "    A_dust_se... : Field (Pull factor (dust), accounting for dust settling)\n",
       "    B            : Field (Push factor (gas), accounting for dust settling)\n",
       "    B_dust_se... : Field (Push factor (dust), accounting for dust settling)\n",
       "  -----"
      ]
     },
     "execution_count": 9,
     "metadata": {},
     "output_type": "execute_result"
    }
   ],
   "source": [
    "sim.dust.backreaction"
   ]
  },
  {
   "cell_type": "markdown",
   "metadata": {},
   "source": [
    "`dust.backreaction.A` and `dust.backreaction.B` correspond to the effective backreaction experienced by the gas.\n",
    "\n",
    "`dust.backreaction.A_dust_settling` and `dust.backreaction.B_dust_settling` correspond to the effective backreaction experienced by the each dust species, settling taken into account."
   ]
  },
  {
   "cell_type": "markdown",
   "metadata": {},
   "source": [
    "This setup also modifies the updater of `dust.v.rad` such that the maximum drift velocity is calculated for each dust species."
   ]
  },
  {
   "cell_type": "markdown",
   "metadata": {},
   "source": [
    "## What next?"
   ]
  },
  {
   "cell_type": "markdown",
   "metadata": {},
   "source": [
    "In the standard dustpy setup, backreaction has an almost negligible effect in the coupled disk dynamics.\n",
    "In `Example_BackreactionStudy.ipynb` we offer an example of how one might want to study the effect of backreaction, and a simulation setup with snowlines where the backreaction actually plays a significant role in the early disk evolution."
   ]
  },
  {
   "cell_type": "code",
   "execution_count": null,
   "metadata": {},
   "outputs": [],
   "source": []
  }
 ],
 "metadata": {
  "kernelspec": {
   "display_name": "Python 3",
   "language": "python",
   "name": "python3"
  },
  "language_info": {
   "codemirror_mode": {
    "name": "ipython",
    "version": 3
   },
   "file_extension": ".py",
   "mimetype": "text/x-python",
   "name": "python",
   "nbconvert_exporter": "python",
   "pygments_lexer": "ipython3",
   "version": "3.8.3"
  }
 },
 "nbformat": 4,
 "nbformat_minor": 4
}
