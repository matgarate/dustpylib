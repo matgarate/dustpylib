{
 "cells": [
  {
   "cell_type": "markdown",
   "metadata": {},
   "source": [
    "## Example of backreaction setups"
   ]
  },
  {
   "cell_type": "markdown",
   "metadata": {},
   "source": [
    "This notebook shows how to use the setup routine to include the effect of the dust backreaction (i.e. the dynamical feedback) into the dustpy `Simulation` object.\n",
    "\n",
    "We also illustrate the modifications applied to the simulation object by the `setup_backreaction()` routine.\n",
    "\n",
    "\n",
    "This module follows the implementation by Garate et al.([2019](https://ui.adsabs.harvard.edu/abs/2019ApJ...871...53G%2F/abstract), [2020](https://ui.adsabs.harvard.edu/abs/2020A%26A...635A.149G/abstract))"
   ]
  },
  {
   "cell_type": "markdown",
   "metadata": {},
   "source": [
    "## Basic backreaction setup"
   ]
  },
  {
   "cell_type": "code",
   "execution_count": 1,
   "metadata": {},
   "outputs": [],
   "source": [
    "from dustpy import Simulation\n",
    "from dustpy import constants as c"
   ]
  },
  {
   "cell_type": "code",
   "execution_count": 2,
   "metadata": {},
   "outputs": [],
   "source": [
    "sim = Simulation()"
   ]
  },
  {
   "cell_type": "markdown",
   "metadata": {},
   "source": [
    "The key parameters that impact the intensity of the dust backreaction are:\n",
    "* Initial global dust-to-gas ratio $\\large \\epsilon_0$\n",
    "* Dust fragmentation velocity $\\large v_\\mathrm{frag}$\n",
    "* Gas turbulence parameter $\\large  \\alpha$ \n",
    "* Dust turbulence $\\large \\delta_\\mathrm{turb}$ (if different form $\\large \\alpha$)"
   ]
  },
  {
   "cell_type": "code",
   "execution_count": 3,
   "metadata": {},
   "outputs": [],
   "source": [
    "sim.ini.gas.alpha = 1.e-3\n",
    "sim.ini.dust.d2gRatio = 0.01\n",
    "sim.ini.dust.vfrag = 1000.0"
   ]
  },
  {
   "cell_type": "code",
   "execution_count": 4,
   "metadata": {},
   "outputs": [],
   "source": [
    "sim.initialize()"
   ]
  },
  {
   "cell_type": "markdown",
   "metadata": {},
   "source": [
    "Afte initializing we call the `setup_backreaction() routine` that will load the backreaction coefficient updaters into the `sim`."
   ]
  },
  {
   "cell_type": "code",
   "execution_count": 5,
   "metadata": {},
   "outputs": [],
   "source": [
    "import dustpylib.dynamics"
   ]
  },
  {
   "cell_type": "code",
   "execution_count": 6,
   "metadata": {},
   "outputs": [
    {
     "name": "stdout",
     "output_type": "stream",
     "text": [
      "Setting up the backreaction module.\n",
      "Please cite the work of Garate(2019, 2020).\n"
     ]
    }
   ],
   "source": [
    "from dustpylib.dynamics.backreaction.setup_backreaction import setup_backreaction\n",
    "setup_backreaction(sim)"
   ]
  },
  {
   "cell_type": "markdown",
   "metadata": {},
   "source": [
    "The setup routine now calculates the backreaction coefficients `A` and `B` which affect the gas radial and azimuthal velocities as in the follows."
   ]
  },
  {
   "cell_type": "markdown",
   "metadata": {},
   "source": [
    "$\\Large v_{r, gas} = A v_\\nu + 2B v_\\eta$\n",
    "\n",
    "$\\Large \\Delta v_{\\phi, gas} = -A v_\\eta + \\frac{B}{2} v_\\nu$\n"
   ]
  },
  {
   "cell_type": "markdown",
   "metadata": {},
   "source": [
    "Here $v_\\nu$ corresponds to the gas viscous velocity, and $v_\\eta = \\eta v_K$ corresponds to standard gas deviation from the keplerian speed due its own pressure support.\n",
    "\n",
    "In a disk with a single dust species, the backreaction coefficients can be written as:\n",
    "\n",
    "$\\Large A = \\frac{\\epsilon +1 + \\mathrm{St}^2}{(\\epsilon + 1)^2 + \\mathrm{St}^2}$\n",
    "\n",
    "$\\Large B = \\frac{\\epsilon \\mathrm{St}}{(\\epsilon + 1)^2 + \\mathrm{St}^2}$\n",
    "\n",
    "\n",
    "\n",
    "In a disk with low dust content and/or small particle sizes ($\\epsilon \\rightarrow 0, \\mathrm{St}\\rightarrow 0$) we have that the coefficients tend to:\n",
    "\n",
    "$\\Large A \\rightarrow 1$\n",
    "\n",
    "$\\Large B \\rightarrow 0$\n",
    "\n",
    "where we recover the values for the gas evolution of a dust free disk."
   ]
  },
  {
   "cell_type": "markdown",
   "metadata": {},
   "source": [
    "In `dustpy` the backreaction coefficients are stored in the `sim.dust.backreaction` group"
   ]
  },
  {
   "cell_type": "code",
   "execution_count": 7,
   "metadata": {},
   "outputs": [
    {
     "data": {
      "text/plain": [
       "Group (Backreaction coefficients)\n",
       "---------------------------------\n",
       "    A            : Field (Pull factor)\n",
       "    B            : Field (Push factor)\n",
       "  -----"
      ]
     },
     "execution_count": 7,
     "metadata": {},
     "output_type": "execute_result"
    }
   ],
   "source": [
    "sim.dust.backreaction"
   ]
  },
  {
   "cell_type": "markdown",
   "metadata": {},
   "source": [
    "The backreaction coefficients are update simultaneously when the `sim.dust.backreaction.update()` function is called.\n",
    "\n",
    "The corresponding updater can be found in `functions_backreaction.BackreactionCoefficients()`\n"
   ]
  },
  {
   "cell_type": "markdown",
   "metadata": {},
   "source": [
    "Now the simulation is fully setup can can be executed with `sim.run()`"
   ]
  },
  {
   "cell_type": "markdown",
   "metadata": {},
   "source": [
    "### Effect on dust diffusivity"
   ]
  },
  {
   "cell_type": "markdown",
   "metadata": {},
   "source": [
    "The dust content in the disk is also expected to slow down the dust diffusivity.\n",
    "\n",
    "To implement this effect, the diffusivity is modified as follows:\n",
    "\n",
    "$\\Large D_{d} = \\frac{\\delta_{rad} c_s^2 \\Omega_K^{-1}}{(1 + \\epsilon) (1 + \\mathrm{St}^2)}$\n",
    "\n",
    "The dust diffusivity updater is included automatically in the `setup_backreaction()` routine.\n",
    "\n",
    "The updater can be found in `functions_backreaction.dustDiffusivity_Backreaction()`"
   ]
  },
  {
   "cell_type": "markdown",
   "metadata": {},
   "source": [
    "## Vertical Backreaction Setup"
   ]
  },
  {
   "cell_type": "markdown",
   "metadata": {},
   "source": [
    "The previous setup assumes that the gas and dust uniformly mixed in the vertical direction, and that therefore are equally affected by the effect of the dust back-reaction.\n",
    "\n",
    "However, we know that the dust tends to settle, and that therefore the midplane should be more intensly affected by the dust feedback than the upper layers.\n",
    "\n",
    "To do so we assume that the gas and dust are vertically distributed following a gaussian profile:\n",
    "\n",
    "\n",
    "$\\Large \\rho_{g, d}(z) = \\frac{\\Sigma_{g,d}}{\\sqrt{2\\pi}h_{g,d}} \\exp(\\frac{z^2}{2h_{g,d}^2})$\n",
    "\n",
    "With these densities we can calculate the backreaction coefficients at every height $\\large A(z), B(Z)$, and obtain a vertically weighted average to calculate the velocities with:\n",
    "\n",
    "$\\Large (\\bar{A}_{g,d}, \\bar{B}_{g,d}) = \\frac{1}{\\Sigma_{g,d}} \\int \\rho_{g,d}\\, (A(z), B (z))\\, \\mathrm{d}z$\n",
    "\n",
    "\n",
    "Because the gas and dust have different characteristic scale heights, this results in one pair of `A,B` backreaction coefficients for both the gas, and for each dust species.\n",
    "\n",
    "The origin of this approach can be found in [Garate et al., 2020](https://ui.adsabs.harvard.edu/abs/2020A%26A...635A.149G/abstract) (Section 2.2.1)\n",
    "\n",
    "To implement the vertically weighted backreaction coefficients, it is only necessary to mark the corresponding flag in the setup as follows:\n",
    "\n",
    "`setup_backreaction(sim, vertical_setup = True)`\n",
    "\n"
   ]
  },
  {
   "cell_type": "code",
   "execution_count": 8,
   "metadata": {},
   "outputs": [
    {
     "name": "stdout",
     "output_type": "stream",
     "text": [
      "Setting up the backreaction module.\n",
      "Please cite the work of Garate(2019, 2020).\n"
     ]
    }
   ],
   "source": [
    "sim = Simulation()\n",
    "sim.initialize()\n",
    "setup_backreaction(sim, vertical_setup = True)"
   ]
  },
  {
   "cell_type": "markdown",
   "metadata": {},
   "source": [
    "which creates the additional fields for the new backreaction coefficients"
   ]
  },
  {
   "cell_type": "code",
   "execution_count": 9,
   "metadata": {},
   "outputs": [
    {
     "data": {
      "text/plain": [
       "Group (Backreaction coefficients)\n",
       "---------------------------------\n",
       "    A            : Field (Pull factor (gas), accounting for dust settling)\n",
       "    A_dust_se... : Field (Pull factor (dust), accounting for dust settling)\n",
       "    B            : Field (Push factor (gas), accounting for dust settling)\n",
       "    B_dust_se... : Field (Push factor (dust), accounting for dust settling)\n",
       "  -----"
      ]
     },
     "execution_count": 9,
     "metadata": {},
     "output_type": "execute_result"
    }
   ],
   "source": [
    "sim.dust.backreaction"
   ]
  },
  {
   "cell_type": "markdown",
   "metadata": {},
   "source": [
    "`dust.backreaction.A` and `dust.backreaction.B` correspond to the effective backreaction experienced by the gas.\n",
    "\n",
    "`dust.backreaction.A_dust_settling` and `dust.backreaction.B_dust_settling` correspond to the effective backreaction experienced by the each dust species, settling taken into account."
   ]
  },
  {
   "cell_type": "markdown",
   "metadata": {},
   "source": [
    "This setup also modifies the updater of `dust.v.rad` such that the maximum drift velocity is calculated for each dust species."
   ]
  },
  {
   "cell_type": "markdown",
   "metadata": {},
   "source": [
    "## What next?"
   ]
  },
  {
   "cell_type": "markdown",
   "metadata": {},
   "source": [
    "With the standard `DustPy` setup the backreaction has an almost negligible effect on the coupled gas and dust dynamics. \n",
    "\n",
    "Therefore we showcase in `run_backreaction_examples.py` and `Study_backreaction_examples.ipynb` a set of simulations that illustrate how the dust back-reaction influences the disk dynamics, and how to interpret the backreaction coefficients."
   ]
  },
  {
   "cell_type": "markdown",
   "metadata": {},
   "source": [
    "We also offer an an analytical steady-state solution to the disk dynamics with backreaction to serve as bechmark for our implementation in `run_backreaction_benchmark.py` and `Study_backreaction_benchmark.ipynb` "
   ]
  },
  {
   "cell_type": "code",
   "execution_count": 12,
   "metadata": {},
   "outputs": [
    {
     "data": {
      "text/plain": [
       "[1.63826203e-09 1.75745068e-09 1.88563521e-09 2.02336066e-09\n",
       " 2.17136561e-09 2.33044998e-09 2.50148077e-09 2.68539835e-09\n",
       " 2.88322351e-09 3.09606517e-09 3.32512916e-09 3.57172777e-09\n",
       " 3.83729065e-09 4.12337683e-09 4.43168829e-09 4.76408518e-09\n",
       " 5.12260295e-09 5.50947162e-09 5.92713765e-09 6.37828861e-09\n",
       " 6.86588122e-09 7.39317319e-09 7.96375954e-09 8.58161408e-09\n",
       " 9.25113682e-09 9.97720847e-09 1.07652530e-08 1.16213098e-08\n",
       " 1.25521172e-08 1.35652088e-08 1.46690261e-08 1.58730490e-08\n",
       " 1.71879482e-08 1.86257644e-08 2.02001182e-08 2.19264570e-08\n",
       " 2.38223479e-08 2.59078235e-08 2.82057944e-08 3.07425405e-08\n",
       " 3.35482998e-08 3.66579756e-08 4.01119900e-08 4.39573165e-08\n",
       " 4.82487365e-08 5.30503719e-08 5.84375650e-08 6.44991929e-08\n",
       " 7.13405309e-08 7.90868120e-08 8.78876739e-08 9.79227435e-08\n",
       " 1.09408688e-07 1.22608169e-07 1.37841276e-07 1.55500219e-07\n",
       " 1.76068332e-07 2.00144808e-07 2.28477118e-07 2.62003818e-07\n",
       " 3.01911491e-07 3.49711084e-07 4.07341106e-07 4.77308316e-07\n",
       " 5.62881277e-07 6.68359110e-07 7.99448370e-07 9.63796953e-07\n",
       " 1.17175860e-06 1.43749987e-06 1.78062182e-06 2.22856466e-06\n",
       " 2.64108594e-06 2.98346546e-06 2.78043550e-29 2.42198796e-29\n",
       " 2.10964613e-29 1.83752331e-29 1.60046716e-29 1.39397444e-29\n",
       " 1.21411350e-29 1.05745448e-29 9.21006917e-30 8.02164511e-30\n",
       " 6.98656354e-30 6.08504075e-30 5.29984281e-30 4.61595659e-30\n",
       " 4.02030085e-30 3.50146971e-30 3.04949593e-30 2.65560582e-30\n",
       " 2.31188686e-30 2.01063328e-30 1.74276206e-30 1.49497319e-30\n",
       " 1.25795183e-30 1.12251365e-30 1.37361886e-30 0.00000000e+00]"
      ]
     },
     "execution_count": 12,
     "metadata": {},
     "output_type": "execute_result"
    }
   ],
   "source": [
    "sim.dust.backreaction.B"
   ]
  },
  {
   "cell_type": "code",
   "execution_count": null,
   "metadata": {},
   "outputs": [],
   "source": []
  }
 ],
 "metadata": {
  "kernelspec": {
   "display_name": "Python 3",
   "language": "python",
   "name": "python3"
  },
  "language_info": {
   "codemirror_mode": {
    "name": "ipython",
    "version": 3
   },
   "file_extension": ".py",
   "mimetype": "text/x-python",
   "name": "python",
   "nbconvert_exporter": "python",
   "pygments_lexer": "ipython3",
   "version": "3.8.3"
  }
 },
 "nbformat": 4,
 "nbformat_minor": 4
}
