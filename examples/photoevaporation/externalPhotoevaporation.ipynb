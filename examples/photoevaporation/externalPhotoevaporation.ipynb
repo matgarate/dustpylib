{
 "cells": [
  {
   "cell_type": "markdown",
   "metadata": {},
   "source": [
    "# Example of external photoevaporation setup."
   ]
  },
  {
   "cell_type": "markdown",
   "metadata": {},
   "source": [
    "Here we show how to implement external photoevaporation using the `setup_externalPhotoevaporation_FRIED()` routine, which loads the FRIED grid from [Haworth et al.(2018)](https://ui.adsabs.harvard.edu/abs/2018MNRAS.481..452H/abstract) into `DustPy`, following the implementation of [Sellek et al.(2020)](https://ui.adsabs.harvard.edu/abs/2020MNRAS.492.1279S/abstract)\n",
    "\n",
    "The file `friedgrid.dat` is included in this module.\n",
    "\n",
    "If you use this module please cite the papers above, in addition whith Garate et al.(in prep.), and Anania et al.(in prep.) for which this module was developed. "
   ]
  },
  {
   "cell_type": "code",
   "execution_count": 1,
   "metadata": {},
   "outputs": [
    {
     "name": "stdout",
     "output_type": "stream",
     "text": [
      "\u001b[95m\n",
      "A newer version of DustPy is available.\n",
      "This version:   1.0.3\n",
      "Latest version: 1.0.4\n",
      "\n",
      "Upgrade with\n",
      "pip install dustpy --upgrade\n",
      "\u001b[0m\n"
     ]
    }
   ],
   "source": [
    "import numpy as np\n",
    "from dustpy import Simulation\n",
    "from dustpy import constants as c\n",
    "\n",
    "import matplotlib.pyplot as plt"
   ]
  },
  {
   "cell_type": "markdown",
   "metadata": {},
   "source": [
    "The two most important parameters parameters for the external photoevaporation setup are the stellar mass and the UV flux experienced by the disk.\n",
    "\n",
    "* The stellar mass must be between $0.05\\, M_\\odot$ - $1.9\\, M_\\odot$.\n",
    "\n",
    "* The UV flux must be between $10\\, G_0$ - $10^4\\, G_0$ "
   ]
  },
  {
   "cell_type": "markdown",
   "metadata": {},
   "source": [
    "The recommended radial limits for simulations using the FRIED grid are within 1 AU - 400 AU (i.e. the radial range covered by the grid)."
   ]
  },
  {
   "cell_type": "code",
   "execution_count": 2,
   "metadata": {},
   "outputs": [],
   "source": [
    "sim = Simulation()\n",
    "sim.ini.star.M = 1 * c.M_sun    # Stellar mass [g]\n",
    "UV_flux = 1000                  # UV Flux [G0]\n",
    "\n",
    "sim.ini.grid.rmin = 1 * c.au\n",
    "sim.ini.grid.rmax = 400 * c.au\n",
    "\n",
    "sim.initialize()"
   ]
  },
  {
   "cell_type": "markdown",
   "metadata": {},
   "source": [
    "Now we call the setup routine as follows:"
   ]
  },
  {
   "cell_type": "code",
   "execution_count": 3,
   "metadata": {},
   "outputs": [],
   "source": [
    "tmp_fried_path = './../../dustpylib/photoevaporation/external/friedgrid.dat'"
   ]
  },
  {
   "cell_type": "code",
   "execution_count": 4,
   "metadata": {},
   "outputs": [],
   "source": [
    "from dustpylib.photoevaporation.external.setup_externalPhotoevaporation import setup_externalPhotoevaporation_FRIED\n",
    "setup_externalPhotoevaporation_FRIED(sim, fried_filename = tmp_fried_path , UV_Flux = 1000.)"
   ]
  },
  {
   "cell_type": "markdown",
   "metadata": {},
   "source": [
    "With this we are ready to run the simulation using `sim.run()`"
   ]
  },
  {
   "cell_type": "markdown",
   "metadata": {},
   "source": [
    "## Sellek et al. (2020) model"
   ]
  },
  {
   "cell_type": "markdown",
   "metadata": {},
   "source": [
    "What the `setup_externalPhotoevaporation_Fried` routine does behind the scenes is to create group called `FRIED`, where the calculations pertaining the photoevaporation grid are preformed. "
   ]
  },
  {
   "cell_type": "code",
   "execution_count": 5,
   "metadata": {},
   "outputs": [
    {
     "data": {
      "text/plain": [
       "Group (FRIED grid used to calculate mass loss rates due to external photoevaporation)\n",
       "-------------------------------------------------------------------------------------\n",
       "    Table        : Group ((Resampled) Table of the mass loss rates for a given radial-Sigma grid.)\n",
       "  -----\n",
       "    MassLoss     : Field (Mass loss rate obtained by interpolating the FRIED Table at each grid cell [g/s])\n",
       "    rTrunc       : Field (Truncation radius [cm])\n",
       "  -----"
      ]
     },
     "execution_count": 5,
     "metadata": {},
     "output_type": "execute_result"
    }
   ],
   "source": [
    "sim.FRIED"
   ]
  },
  {
   "cell_type": "code",
   "execution_count": 6,
   "metadata": {},
   "outputs": [
    {
     "data": {
      "text/plain": [
       "Group ((Resampled) Table of the mass loss rates for a given radial-Sigma grid.)\n",
       "-------------------------------------------------------------------------------\n",
       "    MassLoss     : Field (FRIED Mass loss rates [log10 (M_sun/year)] (grid, nr*nSigma))\n",
       "    radii        : Field (Outer disk radius input to calculate FRIED mass loss rates [AU], (array, nr))\n",
       "    Sigma        : Field (Surface density grid to calculate FRIED mass loss rates [g/cm^2] (array, nSigma))\n",
       "  -----"
      ]
     },
     "execution_count": 6,
     "metadata": {},
     "output_type": "execute_result"
    }
   ],
   "source": [
    "sim.FRIED.Table"
   ]
  },
  {
   "cell_type": "markdown",
   "metadata": {},
   "source": [
    "The `FRIED.Table` contains a resampled version of the FRIED grid.\n",
    "This table indicates the Mass Loss rate of the gas as a function of possible radii and densities of the outer disk.\n",
    "\n",
    "The Table is constructed using following the instructions in Sellek et al.(2020), and then interpolating whithin the stellar mass and UV flux parameter space to match the simulation parameters.\n",
    "\n",
    "Plotting the table as $\\large \\dot{M} = f(r_{out},\\Sigma_{out})$ we obtain:"
   ]
  },
  {
   "cell_type": "code",
   "execution_count": 7,
   "metadata": {},
   "outputs": [
    {
     "data": {
      "text/plain": [
       "<Figure size 432x288 with 0 Axes>"
      ]
     },
     "execution_count": 7,
     "metadata": {},
     "output_type": "execute_result"
    },
    {
     "data": {
      "image/png": "[encoded data removed]",
      "text/plain": [
       "<Figure size 432x288 with 2 Axes>"
      ]
     },
     "metadata": {
      "needs_background": "light"
     },
     "output_type": "display_data"
    },
    {
     "data": {
      "text/plain": [
       "<Figure size 432x288 with 0 Axes>"
      ]
     },
     "metadata": {},
     "output_type": "display_data"
    }
   ],
   "source": [
    "plt.figure()\n",
    "clim0 = -11.\n",
    "clim1 = -4\n",
    "levels = np.arange(clim0, clim1, .5)\n",
    "cbarTicks = np.arange(clim0, clim1, 1.)\n",
    "\n",
    "\n",
    "Table = sim.FRIED.Table \n",
    "plot00 = plt.contourf(\n",
    "        Table.radii,\n",
    "        Table.Sigma,\n",
    "        Table.MassLoss.T,\n",
    "        levels=levels,\n",
    "        extend=\"both\"\n",
    "        )\n",
    "\n",
    "plt.plot(sim.grid.r/c.au, sim.gas.Sigma, 'w', label = r'$\\Sigma_{g}$')\n",
    "plt.plot(sim.FRIED.rTrunc * np.ones(2)/c.au, [1.e-5, 1.e3], 'w--', label = \"$r_{trunc}$\")\n",
    "plt.plot(sim.FRIED.rTrunc/c.au, sim.gas.Sigma[sim.grid.r.searchsorted(sim.FRIED.rTrunc)], 'wo', markersize = 10.)\n",
    "\n",
    "\n",
    "plt.xlabel(r\"r$_{out}$ (AU)\")\n",
    "plt.ylabel(r\"$\\Sigma_{out}$ (g/cm$^2$)\")\n",
    "plt.xscale('log')\n",
    "plt.yscale('log')\n",
    "plt.xlim(10, 300)\n",
    "plt.ylim(1.e-5, 1.e3)\n",
    "cbar00 = plt.colorbar(plot00)\n",
    "cbar00.set_ticks(cbarTicks)\n",
    "cbar00.ax.set_ylabel(r\"$log_{10}\\, \\dot{M}$ ($M_\\odot/yr$)\")\n",
    "\n",
    "plt.legend(loc = 3)\n",
    "plt.tight_layout()\n",
    "\n",
    "plt.figure()\n",
    "\n",
    "\n"
   ]
  },
  {
   "cell_type": "markdown",
   "metadata": {},
   "source": [
    "The total mass loss rate that the disk will experience is calculated with the information from the regions outside the expected truncation radius $\\large r_{trunc}$, which corresponds to the maximum of the mass loss rate map across the surface density of the disk."
   ]
  },
  {
   "cell_type": "code",
   "execution_count": 8,
   "metadata": {},
   "outputs": [
    {
     "name": "stdout",
     "output_type": "stream",
     "text": [
      "Truncation Radius: 148.9 AU\n",
      "Mass loss rate: 3.21e-06 Msun/yr \n"
     ]
    }
   ],
   "source": [
    "print(\"Truncation Radius: {:.1f} AU\".format(sim.FRIED.rTrunc/c.au))\n",
    "print(\"Mass loss rate: {:.2e} Msun/yr \".format(sim.FRIED.MassLoss.max()/(c.M_sun/c.year)))"
   ]
  },
  {
   "cell_type": "markdown",
   "metadata": {},
   "source": [
    "The mass loss rate is then spread over the disk outer regions such that:\n",
    "\n",
    "$\\Large \\dot{M} = \\int_{r_{trunc}}^\\infty 2\\pi r \\dot{\\Sigma}_{g} \\mathrm{d}r$\n",
    "\n",
    "\n",
    "with:\n",
    "$\\large \\dot{\\Sigma}_{g}(r < t_{trunc}) = 0$"
   ]
  },
  {
   "cell_type": "code",
   "execution_count": 9,
   "metadata": {},
   "outputs": [
    {
     "data": {
      "text/plain": [
       "<matplotlib.legend.Legend at 0x7f14ecfbe160>"
      ]
     },
     "execution_count": 9,
     "metadata": {},
     "output_type": "execute_result"
    },
    {
     "data": {
      "image/png": "[encoded data removed]",
      "text/plain": [
       "<Figure size 432x288 with 1 Axes>"
      ]
     },
     "metadata": {
      "needs_background": "light"
     },
     "output_type": "display_data"
    }
   ],
   "source": [
    "plt.figure()\n",
    "plt.xlabel('r (AU)')\n",
    "plt.ylabel(r'$\\dot{\\Sigma}$ (g/cm$^2/s$)')\n",
    "plt.xlim([10, 300])\n",
    "plt.ylim([1.e-16, 1.e-10])\n",
    "\n",
    "plt.loglog(sim.grid.r/c.au, -sim.gas.S.ext, label = 'Loss Rate')\n",
    "plt.legend()"
   ]
  },
  {
   "cell_type": "markdown",
   "metadata": {},
   "source": [
    "## Dust entrainment"
   ]
  },
  {
   "cell_type": "markdown",
   "metadata": {},
   "source": [
    "In addition to the gas loss term and  the FRIED group, the setup routine also determines which grain sizes are entrained the photoevaporative winds (see Facchini et al.(2016), Sellek et al.(2020))"
   ]
  },
  {
   "cell_type": "markdown",
   "metadata": {},
   "source": [
    "$\\Large a_{ent} = \\frac{v_{th}}{G M_*}   \\frac{\\dot{M}}{4\\pi F \\rho_s}$ \n",
    "\n",
    "with $v_{th}$ the thermal speed, $F$ the fraction of solid angle comprised by the disk, and $\\rho_s$ the dust material density. "
   ]
  },
  {
   "cell_type": "markdown",
   "metadata": {},
   "source": [
    "The dust loss rate is then calculated as:\n",
    "\n",
    "$\\Large \\dot{\\Sigma}_{d} = f_{ent}\\, \\epsilon\\, \\dot{\\Sigma}_{g}$,\n",
    "\n",
    "with $\\epsilon$ the local dust-to-gas ratio, and $f_{ent}(a < a_{ent}) = 1$, or $0$ otherwise"
   ]
  },
  {
   "cell_type": "markdown",
   "metadata": {},
   "source": [
    "## Gas only example"
   ]
  },
  {
   "cell_type": "markdown",
   "metadata": {},
   "source": [
    "To illustrate the effect of the external photoevaporation in the disk global evolution we perform here a quick simulation with the dust evolution de-activated."
   ]
  },
  {
   "cell_type": "code",
   "execution_count": 10,
   "metadata": {},
   "outputs": [],
   "source": [
    "sim = Simulation()\n",
    "sim.ini.star.M = 1 * c.M_sun    # Stellar mass [g]\n",
    "UV_flux = 1000                  # UV Flux [G0]\n",
    "\n",
    "sim.ini.grid.rmin = 10 * c.au\n",
    "sim.ini.grid.rmax = 400 * c.au\n",
    "\n",
    "# We won't need the dust component, so we shrink the mass grid to save computational resources\n",
    "sim.ini.grid.Nmbpd = 1\n",
    "sim.ini.grid.mmax = 1.e-10\n",
    "\n",
    "sim.initialize()"
   ]
  },
  {
   "cell_type": "code",
   "execution_count": 11,
   "metadata": {},
   "outputs": [],
   "source": [
    "setup_externalPhotoevaporation_FRIED(sim, fried_filename = tmp_fried_path, UV_Flux = 1000.)"
   ]
  },
  {
   "cell_type": "markdown",
   "metadata": {},
   "source": [
    "We disable the dust sources calculations, and remove turn-off the option of the dust related quantities"
   ]
  },
  {
   "cell_type": "code",
   "execution_count": 12,
   "metadata": {},
   "outputs": [],
   "source": [
    "from simframe.frame import Field, Group\n",
    "sim.dust.S.coag[...] = 0.\n",
    "sim.dust.S.coag.updater = None\n",
    "sim.dust.S.ext[...] = 0.\n",
    "sim.dust.S.ext.updater = None\n",
    "sim.dust.S.hyd[...] = 0.\n",
    "sim.dust.S.hyd.updater = None\n",
    "sim.dust.S.tot[...] = 0.\n",
    "sim.dust.S.tot.updater = None\n",
    "sim.dust.S.updater = None\n",
    "sim.dust.updater = None\n",
    "\n",
    "# Do not save the Fields in the dust Group or subGroups\n",
    "sim.dust.save = False\n",
    "for key, val in sim.dust.__dict__.items():\n",
    "    if isinstance(val, Field):\n",
    "        field = val\n",
    "        field.save = False\n",
    "    elif isinstance(val, Group):\n",
    "        group = val\n",
    "        for key_group, val_group in group.__dict__.items():\n",
    "            if isinstance(val_group, Field):\n",
    "                field = val_group\n",
    "                field.save = False        \n",
    "sim.t.save = True"
   ]
  },
  {
   "cell_type": "code",
   "execution_count": 13,
   "metadata": {},
   "outputs": [],
   "source": [
    "sim.writer.datadir = \"./photoevaporation_examples/externalPhotoevaporation_gasonly/\" \n",
    "sim.t.snapshots = np.array([1.e4, 1.e5, 1.e6]) * c.year\n",
    "\n",
    "sim.writer.dumping = False\n",
    "sim.writer.overwrite = True\n",
    "sim.writer.verbosity = 2"
   ]
  },
  {
   "cell_type": "markdown",
   "metadata": {},
   "source": [
    "Now we execute `sim.run()` and proceed to plot the evolution of the gas surface density."
   ]
  },
  {
   "cell_type": "code",
   "execution_count": 14,
   "metadata": {},
   "outputs": [],
   "source": [
    "from dustpy import hdf5writer\n",
    "hdf5writer = hdf5writer() "
   ]
  },
  {
   "cell_type": "code",
   "execution_count": 15,
   "metadata": {},
   "outputs": [
    {
     "data": {
      "text/plain": [
       "<matplotlib.legend.Legend at 0x7f14ecccda00>"
      ]
     },
     "execution_count": 15,
     "metadata": {},
     "output_type": "execute_result"
    },
    {
     "data": {
      "image/png": "[encoded data removed]",
      "text/plain": [
       "<Figure size 432x288 with 1 Axes>"
      ]
     },
     "metadata": {
      "needs_background": "light"
     },
     "output_type": "display_data"
    }
   ],
   "source": [
    "hdf5writer.datadir = sim.writer.datadir\n",
    "\n",
    "times= hdf5writer.read.sequence(\"t\")\n",
    "r = hdf5writer.read.sequence(\"grid.r\")[0]\n",
    "Sigma_g = hdf5writer.read.sequence(\"gas.Sigma\")\n",
    "\n",
    "plt.figure()\n",
    "plt.xlim([10,300])\n",
    "plt.ylim([1.e-3, 1.e2])\n",
    "\n",
    "\n",
    "plt.xlabel(\"r (AU)\")\n",
    "plt.ylabel(r\"$\\Sigma$ (g/cm$^2)$\")\n",
    "\n",
    "\n",
    "for snap in range(0,len(times)):\n",
    "    # Plot simulation\n",
    "    alpha_min = 0.15\n",
    "    alpha_max = 0.75\n",
    "    alpha_line = alpha_min +  (snap+1)/len(times) *(alpha_max - alpha_min) \n",
    "    plt.loglog(r/c.au, Sigma_g[snap], 'r', alpha = alpha_line, label = str(np.round(times[snap]/c.year/1.e6,2)) + \" Myr\")\n",
    "    \n",
    "plt.legend()"
   ]
  },
  {
   "cell_type": "markdown",
   "metadata": {},
   "source": [
    "The plot above illustrates how external photoevaporation quickly truncates the outer disk during the first 0.1 Myr of evolution. \n",
    "\n",
    "Afterwards the disk evolves viscously, though photoevaporation prevents the disk from fully spreading."
   ]
  },
  {
   "cell_type": "code",
   "execution_count": null,
   "metadata": {},
   "outputs": [],
   "source": []
  }
 ],
 "metadata": {
  "kernelspec": {
   "display_name": "Python 3",
   "language": "python",
   "name": "python3"
  },
  "language_info": {
   "codemirror_mode": {
    "name": "ipython",
    "version": 3
   },
   "file_extension": ".py",
   "mimetype": "text/x-python",
   "name": "python",
   "nbconvert_exporter": "python",
   "pygments_lexer": "ipython3",
   "version": "3.8.3"
  }
 },
 "nbformat": 4,
 "nbformat_minor": 4
}
